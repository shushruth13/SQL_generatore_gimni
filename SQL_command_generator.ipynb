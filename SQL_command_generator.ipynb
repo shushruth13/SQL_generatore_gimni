{
  "cells": [
    {
      "cell_type": "code",
      "execution_count": null,
      "metadata": {
        "id": "aSd3b91MZYwE"
      },
      "outputs": [],
      "source": [
        "import openai\n",
        "import os\n",
        "\n",
        "from openai import OpenAI"
      ]
    },
    {
      "cell_type": "code",
      "execution_count": null,
      "metadata": {
        "id": "LQm-wJwFZYwF"
      },
      "outputs": [],
      "source": [
        "os.environ[\"OPENAI_API_KEY\"] = \"API_KEY\"\n",
        "client = OpenAI()"
      ]
    },
    {
      "cell_type": "code",
      "execution_count": null,
      "metadata": {
        "id": "tcaLt9OAZYwG"
      },
      "outputs": [],
      "source": [
        "response = client.chat.completions.create(\n",
        "    model=\"gpt-3.5-turbo\",\n",
        "    messages=[\n",
        "        {\"role\": \"system\",\n",
        "         \"content\": \"Given the following SQL Tables, your job is to write queries given a user's request:\\n\\n\"\n",
        "                    \"CREATE TABLE Customers (\"\n",
        "                    \"CustomerID INT PRIMARY KEY, \"\n",
        "                    \"FirstName VARCHAR(50), \"\n",
        "                    \"LastName VARCHAR(50), \"\n",
        "                    \"Email VARCHAR(100), \"\n",
        "                    \"Phone VARCHAR(20)\"\n",
        "                    \");\\n\\n\"\n",
        "                    \"CREATE TABLE Orders (\"\n",
        "                    \"OrderID INT PRIMARY KEY, \"\n",
        "                    \"CustomerID INT, \"\n",
        "                    \"OrderDate DATE, \"\n",
        "                    \"FOREIGN KEY (CustomerID) REFERENCES Customers(CustomerID)\"\n",
        "                    \");\\n\\n\"\n",
        "                    \"CREATE TABLE OrderDetails (\"\n",
        "                    \"OrderDetailID INT PRIMARY KEY, \"\n",
        "                    \"OrderID INT, \"\n",
        "                    \"ProductID INT, \"\n",
        "                    \"Quantity INT, \"\n",
        "                    \"UnitPrice DECIMAL(10,2), \"\n",
        "                    \"FOREIGN KEY (OrderID) REFERENCES Orders(OrderID),\"\n",
        "                    \"FOREIGN KEY (ProductID) REFERENCES Products(ProductID)\"\n",
        "                    \");\\n\\n\"\n",
        "                    \"CREATE TABLE Products (\"\n",
        "                    \"ProductID INT PRIMARY KEY, \"\n",
        "                    \"ProductName VARCHAR(50), \"\n",
        "                    \"Category VARCHAR(50), \"\n",
        "                    \"UnitPrice DECIMAL(10,2), \"\n",
        "                    \"Stock INT\"\n",
        "                    \");\"\n",
        "        },\n",
        "        {\"role\": \"user\",\n",
        "         \"content\": \"Write a SQL query to compute the average total order value for all orders on '2023-04-01'.\"\n",
        "        },\n",
        "    ],\n",
        "    temperature=0.0,\n",
        "    max_tokens=100,\n",
        "    top_p=1,\n",
        ")"
      ]
    },
    {
      "cell_type": "code",
      "execution_count": null,
      "metadata": {
        "id": "j-zNVaA_ZYwH"
      },
      "outputs": [],
      "source": [
        "\n",
        "# Print the generated SQL query\n",
        "print(response.choices[0].message.content)"
      ]
    },
    {
      "cell_type": "markdown",
      "metadata": {
        "id": "OTs48sYTZYwH"
      },
      "source": [
        "### OWN"
      ]
    },
    {
      "cell_type": "code",
      "execution_count": null,
      "metadata": {
        "id": "iDdzlzrKZYwI"
      },
      "outputs": [],
      "source": [
        "# # Chatgpt secure methord\n",
        "# #\n",
        "import openai\n",
        "import os\n",
        "from openai import OpenAI\n",
        "\n",
        "# Ensure API key is set\n",
        "api_key = os.getenv(\"OPENAI_API_KEY\")\n",
        "if not api_key:\n",
        "    raise ValueError(\"OpenAI API key not found. Set the OPENAI_API_KEY environment variable.\")\n",
        "\n",
        "client = OpenAI(api_key=api_key)\n",
        "\n",
        "response = client.chat.completions.create(\n",
        "    model=\"gpt-3.5-turbo\",\n",
        "    messages=[\n",
        "        {\"role\": \"system\",\n",
        "         \"content\": \"Given the following SQL Tables, your job is to write queries given a user's request:\\n\\n\"\n",
        "                    \"CREATE TABLE Customers (\"\n",
        "                    \"CustomerID INT PRIMARY KEY, \"\n",
        "                    \"FirstName VARCHAR(50), \"\n",
        "                    \"LastName VARCHAR(50), \"\n",
        "                    \"Email VARCHAR(100), \"\n",
        "                    \"Phone VARCHAR(20)\"\n",
        "                    \");\\n\\n\"\n",
        "                    \"CREATE TABLE Orders (\"\n",
        "                    \"OrderID INT PRIMARY KEY, \"\n",
        "                    \"CustomerID INT, \"\n",
        "                    \"OrderDate DATE, \"\n",
        "                    \"FOREIGN KEY (CustomerID) REFERENCES Customers(CustomerID)\"\n",
        "                    \");\\n\\n\"\n",
        "                    \"CREATE TABLE OrderDetails (\"\n",
        "                    \"OrderDetailID INT PRIMARY KEY, \"\n",
        "                    \"OrderID INT, \"\n",
        "                    \"ProductID INT, \"\n",
        "                    \"Quantity INT, \"\n",
        "                    \"UnitPrice DECIMAL(10,2), \"\n",
        "                    \"FOREIGN KEY (OrderID) REFERENCES Orders(OrderID),\"\n",
        "                    \"FOREIGN KEY (ProductID) REFERENCES Products(ProductID)\"\n",
        "                    \");\\n\\n\"\n",
        "                    \"CREATE TABLE Products (\"\n",
        "                    \"ProductID INT PRIMARY KEY, \"\n",
        "                    \"ProductName VARCHAR(50), \"\n",
        "                    \"Category VARCHAR(50), \"\n",
        "                    \"UnitPrice DECIMAL(10,2), \"\n",
        "                    \"Stock INT\"\n",
        "                    \");\"\n",
        "        },\n",
        "        {\"role\": \"user\",\n",
        "         \"content\": \"Write a SQL query to compute the average total order value for all orders on '2023-04-01'.\"\n",
        "        },\n",
        "    ],\n",
        "    temperature=0.0,\n",
        "    max_tokens=100,\n",
        "    top_p=1,\n",
        ")\n",
        "\n",
        "# Print the generated SQL query\n",
        "print(response.choices[0].message.content)\n"
      ]
    },
    {
      "cell_type": "markdown",
      "metadata": {
        "id": "kSoyloGnZYwJ"
      },
      "source": [
        "### **Gemini**"
      ]
    },
    {
      "cell_type": "code",
      "execution_count": null,
      "metadata": {
        "id": "QPDwaOLsZYwJ",
        "outputId": "df451742-18a8-474b-ebc5-5454b43e73bf"
      },
      "outputs": [
        {
          "name": "stdout",
          "output_type": "stream",
          "text": [
            "```sql\n",
            "SELECT AVG(TotalOrderValue) AS AverageOrderValue\n",
            "FROM (\n",
            "    SELECT \n",
            "        o.OrderID,\n",
            "        SUM(od.Quantity * od.UnitPrice) AS TotalOrderValue\n",
            "    FROM Orders o\n",
            "    JOIN OrderDetails od ON o.OrderID = od.OrderID\n",
            "    WHERE o.OrderDate = '2023-04-01'\n",
            "    GROUP BY o.OrderID\n",
            ") AS OrderValues;\n",
            "```\n"
          ]
        }
      ],
      "source": [
        "import google.generativeai as genai\n",
        "import os\n",
        "\n",
        "# Set up API key\n",
        "GOOGLE_API_KEY = \"API_KEY\"\n",
        "genai.configure(api_key=GOOGLE_API_KEY)\n",
        "\n",
        "# Initialize Gemini model\n",
        "model = genai.GenerativeModel(\"gemini-2.0-flash\")  # You can use gemini-1.5-pro if available\n",
        "\n",
        "# Define system prompt with SQL table structure\n",
        "system_prompt = \"\"\"\n",
        "Given the following SQL Tables, your job is to write queries given a user's request:\n",
        "\n",
        "CREATE TABLE Customers (\n",
        "    CustomerID INT PRIMARY KEY,\n",
        "    FirstName VARCHAR(50),\n",
        "    LastName VARCHAR(50),\n",
        "    Email VARCHAR(100),\n",
        "    Phone VARCHAR(20)\n",
        ");\n",
        "\n",
        "CREATE TABLE Orders (\n",
        "    OrderID INT PRIMARY KEY,\n",
        "    CustomerID INT,\n",
        "    OrderDate DATE,\n",
        "    FOREIGN KEY (CustomerID) REFERENCES Customers(CustomerID)\n",
        ");\n",
        "\n",
        "CREATE TABLE OrderDetails (\n",
        "    OrderDetailID INT PRIMARY KEY,\n",
        "    OrderID INT,\n",
        "    ProductID INT,\n",
        "    Quantity INT,\n",
        "    UnitPrice DECIMAL(10,2),\n",
        "    FOREIGN KEY (OrderID) REFERENCES Orders(OrderID),\n",
        "    FOREIGN KEY (ProductID) REFERENCES Products(ProductID)\n",
        ");\n",
        "\n",
        "CREATE TABLE Products (\n",
        "    ProductID INT PRIMARY KEY,\n",
        "    ProductName VARCHAR(50),\n",
        "    Category VARCHAR(50),\n",
        "    UnitPrice DECIMAL(10,2),\n",
        "    Stock INT\n",
        ");\n",
        "\"\"\"\n",
        "\n",
        "# User prompt (query request)\n",
        "user_prompt = \"Write a SQL query to compute the average total order value for all orders on '2023-04-01'.\"\n",
        "\n",
        "# Generate response\n",
        "response = model.generate_content([system_prompt, user_prompt])\n",
        "\n",
        "# Print output\n",
        "print(response.text)\n"
      ]
    },
    {
      "cell_type": "code",
      "execution_count": null,
      "metadata": {
        "id": "i7SO-aUGZYwK"
      },
      "outputs": [],
      "source": []
    }
  ],
  "metadata": {
    "colab": {
      "provenance": []
    },
    "kernelspec": {
      "display_name": "Python 3",
      "language": "python",
      "name": "python3"
    },
    "language_info": {
      "codemirror_mode": {
        "name": "ipython",
        "version": 3
      },
      "file_extension": ".py",
      "mimetype": "text/x-python",
      "name": "python",
      "nbconvert_exporter": "python",
      "pygments_lexer": "ipython3",
      "version": "3.12.6"
    }
  },
  "nbformat": 4,
  "nbformat_minor": 0
}
